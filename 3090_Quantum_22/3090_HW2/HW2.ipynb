{
 "cells": [
  {
   "cell_type": "markdown",
   "id": "a5c61178",
   "metadata": {},
   "source": [
    "# Homework 2: The Bell Basis\n",
    "\n",
    "### Instructions:\n",
    "Just like last week, run each block sequentially from the top to load the libraries and constuct the first circuit. After the Problem 3 header below, you have some of your own coding to do to construct three more circuits, which is the actual assignment task. When you are done, attach a pdf of the entire completed notebook to your homework submission."
   ]
  },
  {
   "cell_type": "code",
   "execution_count": null,
   "id": "a1e4d37c",
   "metadata": {},
   "outputs": [],
   "source": [
    "#Setup for Qiskit\n",
    "\n",
    "import qiskit\n",
    "from qiskit import *\n",
    "import numpy as np\n",
    "from qiskit import QuantumCircuit, transpile, assemble, Aer, IBMQ, execute\n",
    "from qiskit.visualization import plot_histogram, plot_bloch_vector, plot_bloch_multivector, array_to_latex\n",
    "from qiskit.quantum_info import Statevector\n",
    "import matplotlib"
   ]
  },
  {
   "cell_type": "markdown",
   "id": "b91dd493",
   "metadata": {},
   "source": [
    "Recall that the Hadamard gate maps the computational basis to \n",
    "\n",
    "$$ \\hat{H} |0\\rangle = \\frac{1}{\\sqrt{2}} (|0\\rangle + |1\\rangle)$$\n",
    "$$ \\hat{H} |1\\rangle = \\frac{1}{\\sqrt{2}} (|0\\rangle - |1\\rangle).$$\n",
    "\n",
    "Also, remember from last week that to generate $|\\Phi^+ \\rangle = \\frac{1}{\\sqrt{2}} (|00\\rangle + | 11 \\rangle)$ from the computational basis we apply the following gates to the $|00 \\rangle$ state;\n",
    "\n",
    "$$(CNOT_{01})(\\hat{H} \\otimes \\hat{I}) |00\\rangle = \\frac{1}{\\sqrt{2}} (|00\\rangle + | 11 \\rangle)$$"
   ]
  },
  {
   "cell_type": "markdown",
   "id": "f78778ff",
   "metadata": {},
   "source": [
    "Let's construct the circuit. In circuit form, we have"
   ]
  },
  {
   "cell_type": "code",
   "execution_count": null,
   "id": "cecd5fcb",
   "metadata": {},
   "outputs": [],
   "source": [
    "n=2 # define the number of qubits\n",
    "\n",
    "q=QuantumRegister(2,\"q\") # initialize a circuit with two qubits in the |0> state\n",
    "c=ClassicalRegister(2,\"c\") # create two classical registers in case we want to measure our qubits\n",
    "\n",
    "circuit=QuantumCircuit(q,c) # define the quantum circuit\n",
    "\n",
    "circuit.h(q[0]) # apply a Hadamard operation to the zeroth qubit\n",
    "circuit.cx(q[0],q[1]) # apply a controlled-NOT operation using the zeroth qubit as the control\n",
    "\n",
    "circuit.draw(output=\"mpl\") # draw circuit"
   ]
  },
  {
   "cell_type": "code",
   "execution_count": null,
   "id": "8e2e7f68",
   "metadata": {},
   "outputs": [],
   "source": [
    "n=2\n",
    "\n",
    "q=QuantumRegister(2,\"q\")\n",
    "c=ClassicalRegister(2,\"c\")\n",
    "\n",
    "circuit=QuantumCircuit(q,c)\n",
    "\n",
    "circuit.h(q[0])\n",
    "circuit.cx(q[0],q[1])\n",
    "\n",
    "backend = Aer.get_backend('statevector_simulator') # exactly simulates the evolution of the state starting in |00>\n",
    "shots = 1 # simulate once\n",
    "result=execute(circuit, backend=backend, shots=shots).result() # run simulation\n",
    "statevector=result.get_statevector() # store the output statevector\n",
    "print(statevector)"
   ]
  },
  {
   "cell_type": "markdown",
   "id": "b89e9849",
   "metadata": {
    "tags": []
   },
   "source": [
    "By inspecting the statevector, we see that this circuit indeed created\n",
    "\n",
    "$$| \\Phi^+ \\rangle = \\frac{1}{\\sqrt{2}} (|00\\rangle + | 11 \\rangle) = \\begin{pmatrix} \\frac{1}{\\sqrt{2}} \\\\ 0 \\\\ 0 \\\\ \\frac{1}{\\sqrt{2}}\\end{pmatrix}. $$\n"
   ]
  },
  {
   "cell_type": "markdown",
   "id": "85e38fdc",
   "metadata": {},
   "source": [
    "# Problem 3\n",
    "\n",
    "Your task is to modify the code above to create the circuits which generate the remaining three states of the Bell basis. The Bell basis is a set of four maximally entangled states of two qubits given as\n",
    "\n",
    "$$|\\Phi^+ \\rangle = \\frac{1}{\\sqrt{2}} (|00\\rangle + | 11 \\rangle),$$\n",
    "$$|\\Phi^- \\rangle = \\frac{1}{\\sqrt{2}} (|00\\rangle - | 11 \\rangle),$$\n",
    "$$|\\Psi^+ \\rangle = \\frac{1}{\\sqrt{2}} (|01\\rangle + | 10 \\rangle),$$\n",
    "$$|\\Psi^- \\rangle = \\frac{1}{\\sqrt{2}} (|01\\rangle - | 10 \\rangle).$$\n",
    "The Bell states are discussed on Page 136 and 137 of the textbook, where example circuits are given. \n",
    "\n",
    "Your code goes below:"
   ]
  },
  {
   "cell_type": "code",
   "execution_count": null,
   "id": "84446cba",
   "metadata": {},
   "outputs": [],
   "source": []
  }
 ],
 "metadata": {
  "kernelspec": {
   "display_name": "Python 3 (ipykernel)",
   "language": "python",
   "name": "python3"
  },
  "language_info": {
   "codemirror_mode": {
    "name": "ipython",
    "version": 3
   },
   "file_extension": ".py",
   "mimetype": "text/x-python",
   "name": "python",
   "nbconvert_exporter": "python",
   "pygments_lexer": "ipython3",
   "version": "3.10.8"
  }
 },
 "nbformat": 4,
 "nbformat_minor": 5
}
